{
 "cells": [
  {
   "cell_type": "code",
   "execution_count": 449,
   "outputs": [
    {
     "name": "stdout",
     "output_type": "stream",
     "text": [
      "Inicio del proyecto\n"
     ]
    }
   ],
   "source": [
    "import psycopg2\n",
    "import random\n",
    "from faker import Faker\n",
    "fake = Faker(['es_ES'])\n",
    "from faker import Faker\n",
    "print(\"Inicio del proyecto\")"
   ],
   "metadata": {
    "collapsed": false,
    "ExecuteTime": {
     "end_time": "2023-05-19T00:31:29.265906600Z",
     "start_time": "2023-05-19T00:31:29.114138700Z"
    }
   }
  },
  {
   "cell_type": "code",
   "execution_count": 450,
   "outputs": [
    {
     "name": "stdout",
     "output_type": "stream",
     "text": [
      "Coneccion con exito\n"
     ]
    }
   ],
   "source": [
    "bbdd = 'pkrxcdfv'\n",
    "usuario = 'pkrxcdfv'\n",
    "contrasenya = '2Cci5C1lH485Zsv_7_0-TQZOHOf-PasS'\n",
    "maquina = 'drona.db.elephantsql.com'\n",
    "puerto = '5432'\n",
    "\n",
    "conexion = psycopg2.connect(dbname=bbdd,\n",
    "                            user=usuario,\n",
    "                            password=contrasenya,\n",
    "                            host=maquina,\n",
    "                            port=puerto\n",
    ")\n",
    "\n",
    "if conexion.status == 1:\n",
    "    print(\"Coneccion con exito\")\n",
    "else:\n",
    "    print(\"Error de coneccion\")"
   ],
   "metadata": {
    "collapsed": false,
    "ExecuteTime": {
     "end_time": "2023-05-19T00:31:29.861498800Z",
     "start_time": "2023-05-19T00:31:29.166395100Z"
    }
   }
  },
  {
   "cell_type": "code",
   "execution_count": 451,
   "outputs": [],
   "source": [
    "cursor = conexion.cursor()"
   ],
   "metadata": {
    "collapsed": false,
    "ExecuteTime": {
     "end_time": "2023-05-19T00:31:29.864017Z",
     "start_time": "2023-05-19T00:31:29.859712Z"
    }
   }
  },
  {
   "cell_type": "code",
   "execution_count": 452,
   "outputs": [],
   "source": [
    "cursor.execute(\" \\\n",
    "DO $$ BEGIN \\\n",
    "    CREATE TYPE tipo_poliza AS ENUM ('SOAT', 'Poliza_seguro_vehicular', 'SAT', 'TREC', 'RC'); \\\n",
    "EXCEPTION \\\n",
    "    WHEN duplicate_object THEN null; \\\n",
    "END $$;\")\n",
    "conexion.commit()"
   ],
   "metadata": {
    "collapsed": false,
    "ExecuteTime": {
     "end_time": "2023-05-19T00:31:30.190537400Z",
     "start_time": "2023-05-19T00:31:29.864017Z"
    }
   }
  },
  {
   "cell_type": "code",
   "execution_count": 453,
   "outputs": [],
   "source": [
    "cursor.execute(\"CREATE TABLE IF NOT EXISTS POLIZA ( \\\n",
    "      numero_poliza VARCHAR(100) NOT NULL, \\\n",
    "      fecha_inicio DATE NOT NULL, \\\n",
    "      fecha_fin DATE NOT NULL, \\\n",
    "      aseguradora VARCHAR(100) NOT NULL, \\\n",
    "      telefono_aseguradora VARCHAR(30) NOT NULL, \\\n",
    "      telefono_broker VARCHAR(30) NOT NULL, \\\n",
    "      cronograma_pago INT NOT NULL, \\\n",
    "      poliza_adjunta TEXT NOT NULL, \\\n",
    "      tipo_poliza tipo_poliza NOT NULL, \\\n",
    "      estado_poliza BOOLEAN NOT NULL, \\\n",
    "      PRIMARY KEY (numero_poliza) \\\n",
    "    );\"\n",
    ")\n",
    "conexion.commit()"
   ],
   "metadata": {
    "collapsed": false,
    "ExecuteTime": {
     "end_time": "2023-05-19T00:31:30.531592500Z",
     "start_time": "2023-05-19T00:31:30.189535700Z"
    }
   }
  },
  {
   "cell_type": "code",
   "execution_count": 454,
   "outputs": [
    {
     "name": "stdout",
     "output_type": "stream",
     "text": [
      "Polizas creadas con exito\n"
     ]
    }
   ],
   "source": [
    "for i in range (10):\n",
    "    numero_poliza = fake.bothify(text='???-###-###???', letters='ABCDEFGHY')\n",
    "    fecha_inicio = fake.date()\n",
    "    fecha_fin = fake.date()\n",
    "    aseguradora = fake.company()\n",
    "    telefono_aseguradora = fake.phone_number()\n",
    "    telefono_broker = fake.phone_number()\n",
    "    cronograma_pago = fake.unix_time()\n",
    "    poliza_adjunta = fake.file_path(depth=5, category='poliza', extension='pdf')\n",
    "    tipo_poliza =  'SOAT'\n",
    "    estado_poliza = fake.boolean(chance_of_getting_true=4)\n",
    "    cursor.execute(\"INSERT INTO poliza ( \\\n",
    "            numero_poliza, \\\n",
    "            fecha_inicio, \\\n",
    "            fecha_fin, \\\n",
    "            aseguradora, \\\n",
    "            telefono_aseguradora, \\\n",
    "            telefono_broker, \\\n",
    "            cronograma_pago, \\\n",
    "            poliza_adjunta, \\\n",
    "            tipo_poliza, \\\n",
    "            estado_poliza \\\n",
    "            ) VALUES (%s, %s, %s, %s, %s, %s, %s, %s, %s, %s)\", (\n",
    "        numero_poliza,\n",
    "        fecha_inicio,\n",
    "        fecha_fin,\n",
    "        aseguradora,\n",
    "        telefono_aseguradora,\n",
    "        telefono_broker,\n",
    "        cronograma_pago,\n",
    "        poliza_adjunta,\n",
    "        tipo_poliza,\n",
    "        estado_poliza\n",
    "    ))\n",
    "    conexion.commit()\n",
    "print(\"Polizas creadas con exito\")"
   ],
   "metadata": {
    "collapsed": false,
    "ExecuteTime": {
     "end_time": "2023-05-19T00:31:33.775446500Z",
     "start_time": "2023-05-19T00:31:30.531592500Z"
    }
   }
  },
  {
   "cell_type": "code",
   "execution_count": 455,
   "outputs": [
    {
     "data": {
      "text/plain": "[('BGB-966-963YEF',\n  datetime.date(1990, 5, 8),\n  datetime.date(1991, 1, 4),\n  'Pelayo PLC',\n  '+34 824 584 548',\n  '+34879 995 362',\n  529407683,\n  '/omnis/hic/quibusdam/illum/natus/asperiores.pdf',\n  'SOAT',\n  False),\n ('YBC-719-639YYY',\n  datetime.date(2003, 11, 30),\n  datetime.date(2019, 7, 29),\n  'Palmer-Cornejo',\n  '+34978408514',\n  '+34869803206',\n  1491827989,\n  '/provident/ad/voluptatibus/veritatis/velit/aliquid.pdf',\n  'SOAT',\n  False),\n ('FFD-054-604YHG',\n  datetime.date(1988, 4, 18),\n  datetime.date(1981, 9, 21),\n  'Valderrama Inc',\n  '+34881 558 909',\n  '+34807 435 265',\n  573105171,\n  '/in/unde/quibusdam/nisi/ipsum/molestiae.pdf',\n  'SOAT',\n  False),\n ('CFE-716-469AGH',\n  datetime.date(2006, 8, 8),\n  datetime.date(1970, 4, 21),\n  'Bosch-Cobo',\n  '+34873 22 02 35',\n  '+34 860 283 304',\n  744654420,\n  '/hic/quae/consequatur/autem/dolores/suscipit.pdf',\n  'SOAT',\n  False),\n ('BFY-994-959DEY',\n  datetime.date(2016, 6, 17),\n  datetime.date(1976, 1, 11),\n  'Calzada PLC',\n  '+34971 40 51 08',\n  '+34 928570020',\n  255913510,\n  '/dolores/hic/quas/possimus/quae/ipsum.pdf',\n  'SOAT',\n  False),\n ('BHA-065-371GHC',\n  datetime.date(1997, 11, 28),\n  datetime.date(1972, 11, 1),\n  'Vilanova, Pineda and Ribas',\n  '+34 986 160 506',\n  '+34 941609089',\n  827351614,\n  '/consequatur/tempora/odit/beatae/harum/fugiat.pdf',\n  'SOAT',\n  False),\n ('EDB-662-572EYE',\n  datetime.date(1977, 3, 21),\n  datetime.date(1991, 1, 27),\n  'Neira LLC',\n  '+34 983101277',\n  '+34846 193 720',\n  1422365967,\n  '/hic/itaque/occaecati/officiis/ad/possimus.pdf',\n  'SOAT',\n  False),\n ('GFF-295-469BEA',\n  datetime.date(1992, 9, 26),\n  datetime.date(1975, 2, 16),\n  'Benavides Ltd',\n  '+34 883 43 91 87',\n  '+34941404774',\n  1291806089,\n  '/illo/tenetur/minus/veritatis/cumque/reprehenderit.pdf',\n  'SOAT',\n  False),\n ('EGG-502-487GBB',\n  datetime.date(1990, 4, 16),\n  datetime.date(2010, 3, 14),\n  'Valero, Vicente and Novoa',\n  '+34844037395',\n  '+34971331656',\n  714036255,\n  '/sit/et/quas/natus/amet/voluptates.pdf',\n  'SOAT',\n  False),\n ('DBE-312-911GCY',\n  datetime.date(2005, 3, 18),\n  datetime.date(2007, 1, 2),\n  'Aragonés-Llabrés',\n  '+34846 811 054',\n  '+34 744665408',\n  1277296564,\n  '/eaque/dolorem/officiis/suscipit/libero/veritatis.pdf',\n  'SOAT',\n  False)]"
     },
     "execution_count": 455,
     "metadata": {},
     "output_type": "execute_result"
    }
   ],
   "source": [
    "cursor.execute(\"SELECT * FROM poliza\")\n",
    "cursor.fetchall()"
   ],
   "metadata": {
    "collapsed": false,
    "ExecuteTime": {
     "end_time": "2023-05-19T00:31:33.995103100Z",
     "start_time": "2023-05-19T00:31:33.774449300Z"
    }
   }
  },
  {
   "cell_type": "code",
   "execution_count": 456,
   "outputs": [],
   "source": [
    "cursor.execute(\"CREATE TABLE IF NOT EXISTS OBRA ( \\\n",
    "      codigo_obra INT NOT NULL, \\\n",
    "      nombre_obra VARCHAR(100) NOT NULL, \\\n",
    "      direccion VARCHAR(100) NULL, \\\n",
    "      ubicacion VARCHAR(100) NULL, \\\n",
    "      PRIMARY KEY (codigo_obra) \\\n",
    "    );\"\n",
    ")\n",
    "conexion.commit()"
   ],
   "metadata": {
    "collapsed": false,
    "ExecuteTime": {
     "end_time": "2023-05-19T00:31:34.233292500Z",
     "start_time": "2023-05-19T00:31:33.995103100Z"
    }
   }
  },
  {
   "cell_type": "code",
   "execution_count": 457,
   "outputs": [],
   "source": [
    "cursor.execute(\"CREATE TABLE IF NOT EXISTS EMPRESA ( \\\n",
    "      ruc INT NOT NULL, \\\n",
    "      razon_social VARCHAR(100) NOT NULL, \\\n",
    "      direccion VARCHAR(100) NULL, \\\n",
    "      contacto VARCHAR(100) NULL, \\\n",
    "      correo VARCHAR(100) NULL, \\\n",
    "      telefono VARCHAR(30) NOT NULL, \\\n",
    "      PRIMARY KEY (ruc) \\\n",
    "    );\"\n",
    ")\n",
    "conexion.commit()"
   ],
   "metadata": {
    "collapsed": false,
    "ExecuteTime": {
     "end_time": "2023-05-19T00:31:34.569147700Z",
     "start_time": "2023-05-19T00:31:34.234290900Z"
    }
   }
  },
  {
   "cell_type": "code",
   "execution_count": 458,
   "outputs": [],
   "source": [
    "cursor.execute(\"CREATE TABLE IF NOT EXISTS ejecuta ( \\\n",
    "      codigo_obra INT NOT NULL, \\\n",
    "      ruc INT NOT NULL, \\\n",
    "      PRIMARY KEY (codigo_obra, ruc), \\\n",
    "      FOREIGN KEY (codigo_obra) REFERENCES OBRA(codigo_obra), \\\n",
    "      FOREIGN KEY (ruc) REFERENCES EMPRESA(ruc) \\\n",
    "    );\"\n",
    ")\n",
    "conexion.commit()"
   ],
   "metadata": {
    "collapsed": false,
    "ExecuteTime": {
     "end_time": "2023-05-19T00:31:34.911094600Z",
     "start_time": "2023-05-19T00:31:34.572146800Z"
    }
   }
  },
  {
   "cell_type": "code",
   "execution_count": 459,
   "outputs": [
    {
     "name": "stdout",
     "output_type": "stream",
     "text": [
      "Registros creados con exito\n"
     ]
    }
   ],
   "source": [
    "for i_empresa in range (10):\n",
    "    ruc  = fake.unique.random_int(min=111111, max=999999)\n",
    "    razon_social  = fake.company()\n",
    "    direccion = fake.address()\n",
    "    contacto  = fake.name()\n",
    "    correo  = fake.ascii_company_email()\n",
    "    telefono  = fake.phone_number()\n",
    "    cursor.execute(\"INSERT INTO empresa (ruc, \\\n",
    "            razon_social, \\\n",
    "            direccion, \\\n",
    "            contacto, \\\n",
    "            correo, \\\n",
    "            telefono \\\n",
    "            ) VALUES (%s, %s, %s, %s, %s, %s)\", (ruc, razon_social, direccion, contacto, correo, telefono))\n",
    "    conexion.commit()\n",
    "    for i_obra in range (2):\n",
    "        codigo_obra  = fake.unique.random_int(min=111111, max=999999)\n",
    "        nombre_obra  = fake.company()\n",
    "        direccion = fake.address()\n",
    "        ubicacion  = fake.location_on_land()\n",
    "        cursor.execute(\"INSERT INTO obra (codigo_obra, \\\n",
    "                nombre_obra, \\\n",
    "                direccion, \\\n",
    "                ubicacion \\\n",
    "                ) VALUES (%s, %s, %s, %s)\", (codigo_obra, nombre_obra, direccion, ubicacion))\n",
    "        conexion.commit()\n",
    "        cursor.execute(\"INSERT INTO ejecuta (codigo_obra, ruc ) VALUES (%s, %s)\", (codigo_obra, ruc))\n",
    "        conexion.commit()\n",
    "print(\"Registros creados con exito\")"
   ],
   "metadata": {
    "collapsed": false,
    "ExecuteTime": {
     "end_time": "2023-05-19T00:31:51.159340300Z",
     "start_time": "2023-05-19T00:31:34.901099400Z"
    }
   }
  },
  {
   "cell_type": "code",
   "execution_count": 460,
   "outputs": [],
   "source": [
    "conexion.commit()"
   ],
   "metadata": {
    "collapsed": false,
    "ExecuteTime": {
     "end_time": "2023-05-19T00:31:51.161850400Z",
     "start_time": "2023-05-19T00:31:51.157719Z"
    }
   }
  },
  {
   "cell_type": "code",
   "execution_count": 461,
   "outputs": [
    {
     "data": {
      "text/plain": "(658522,)"
     },
     "execution_count": 461,
     "metadata": {},
     "output_type": "execute_result"
    }
   ],
   "source": [
    "cursor.execute(\"SELECT contacto FROM empresa\")\n",
    "empresa = random.choice(cursor.fetchall())[0]\n",
    "cursor.execute(\"SELECT ruc FROM empresa WHERE contacto like '%{}%'\".format(empresa))\n",
    "cursor.fetchone()"
   ],
   "metadata": {
    "collapsed": false,
    "ExecuteTime": {
     "end_time": "2023-05-19T00:31:51.487359800Z",
     "start_time": "2023-05-19T00:31:51.160853400Z"
    }
   }
  },
  {
   "cell_type": "code",
   "execution_count": 462,
   "outputs": [
    {
     "data": {
      "text/plain": "[(659255,\n  'Agustí-Gil',\n  'Rosario Feijoo Folch',\n  576921,\n  'Vilalta, Gomila and Zabala'),\n (659255, 'Agustí-Gil', 'Rosario Feijoo Folch', 704846, 'Alsina Ltd'),\n (318892,\n  'Rocamora, Rey and Riquelme',\n  'Ruperta Campillo Clavero',\n  389983,\n  'Cruz, Company and Morante'),\n (318892,\n  'Rocamora, Rey and Riquelme',\n  'Ruperta Campillo Clavero',\n  272453,\n  'Mayol LLC'),\n (236747,\n  'Escolano-Rueda',\n  'Encarnita Alvarez Castellanos',\n  471208,\n  'Estévez-Aguirre'),\n (236747,\n  'Escolano-Rueda',\n  'Encarnita Alvarez Castellanos',\n  382102,\n  'Álvarez, Tejada and Meléndez'),\n (337562, 'Mena-Cortina', 'Domitila Oliveras Olivera', 932705, 'Arce-Garcia'),\n (337562,\n  'Mena-Cortina',\n  'Domitila Oliveras Olivera',\n  142248,\n  'Zurita, Calzada and Ureña'),\n (929725,\n  'Aller-Arnaiz',\n  'Baltasar Carbonell Pintor',\n  243476,\n  'Galván, Miralles and Baró'),\n (929725,\n  'Aller-Arnaiz',\n  'Baltasar Carbonell Pintor',\n  910935,\n  'Bermúdez-Tormo'),\n (658522,\n  'Seguí, Ortuño and Salamanca',\n  'Norberto Castrillo Cáceres',\n  875074,\n  'Naranjo Inc'),\n (658522,\n  'Seguí, Ortuño and Salamanca',\n  'Norberto Castrillo Cáceres',\n  138934,\n  'Botella Group'),\n (733937, 'Aliaga and Sons', 'Ximena Azorin Cerezo', 908611, 'Ródenas Inc'),\n (733937,\n  'Aliaga and Sons',\n  'Ximena Azorin Cerezo',\n  805198,\n  'Domínguez Group'),\n (299069,\n  'Vergara, Cuevas and Becerra',\n  'Tomasa Bosch Corbacho',\n  867502,\n  'Vall, Barceló and Royo'),\n (299069,\n  'Vergara, Cuevas and Becerra',\n  'Tomasa Bosch Corbacho',\n  614951,\n  'Ropero, Coronado and Albero'),\n (343473, 'Barriga Ltd', 'Olalla Franco', 959094, 'Salvà PLC'),\n (343473, 'Barriga Ltd', 'Olalla Franco', 992286, 'Varela-Rovira'),\n (294661, 'Calderon Ltd', 'Manolo Barral Benavides', 114917, 'Arranz-Company'),\n (294661,\n  'Calderon Ltd',\n  'Manolo Barral Benavides',\n  893184,\n  'Francisco-Palomo')]"
     },
     "execution_count": 462,
     "metadata": {},
     "output_type": "execute_result"
    }
   ],
   "source": [
    "cursor.execute(\"SELECT em.ruc, em.razon_social, em.contacto, o.codigo_obra, o.nombre_obra \\\n",
    "    FROM empresa em \\\n",
    "         INNER JOIN ejecuta ej ON ej.ruc = em.ruc \\\n",
    "         INNER JOIN obra o on o.codigo_obra = ej.codigo_obra;\")\n",
    "cursor.fetchall()"
   ],
   "metadata": {
    "collapsed": false,
    "ExecuteTime": {
     "end_time": "2023-05-19T00:31:51.598360200Z",
     "start_time": "2023-05-19T00:31:51.487359800Z"
    }
   }
  },
  {
   "cell_type": "code",
   "execution_count": 463,
   "outputs": [
    {
     "data": {
      "text/plain": "[(343473, 2),\n (337562, 2),\n (929725, 2),\n (294661, 2),\n (659255, 2),\n (236747, 2),\n (733937, 2),\n (299069, 2),\n (318892, 2),\n (658522, 2)]"
     },
     "execution_count": 463,
     "metadata": {},
     "output_type": "execute_result"
    }
   ],
   "source": [
    "cursor.execute(\"SELECT EM.ruc, COUNT(O.codigo_obra) \\\n",
    "    FROM empresa EM \\\n",
    "         INNER JOIN ejecuta EJ ON EJ.ruc = EM.ruc \\\n",
    "         INNER JOIN obra O on O.codigo_obra = EJ.codigo_obra GROUP BY EM.ruc;\")\n",
    "cursor.fetchall()"
   ],
   "metadata": {
    "collapsed": false,
    "ExecuteTime": {
     "end_time": "2023-05-19T00:31:51.708650800Z",
     "start_time": "2023-05-19T00:31:51.597360700Z"
    }
   }
  },
  {
   "cell_type": "code",
   "execution_count": 464,
   "outputs": [],
   "source": [
    "conexion.commit()"
   ],
   "metadata": {
    "collapsed": false,
    "ExecuteTime": {
     "end_time": "2023-05-19T00:31:51.816163300Z",
     "start_time": "2023-05-19T00:31:51.708650800Z"
    }
   }
  },
  {
   "cell_type": "code",
   "execution_count": 465,
   "outputs": [],
   "source": [
    "cursor.execute(\"CREATE TABLE IF NOT EXISTS USUARIO ( \\\n",
    "      documento_identidad INT NOT NULL, \\\n",
    "      nombre VARCHAR(100) NULL, \\\n",
    "      email VARCHAR(100) NOT NULL, \\\n",
    "      usuario VARCHAR(100) NOT NULL, \\\n",
    "      contrasenia VARCHAR(100) NOT NULL, \\\n",
    "      fecha_nacimiento DATE NULL, \\\n",
    "      apellidos VARCHAR(100) NULL, \\\n",
    "      ruc INT NOT NULL, \\\n",
    "      PRIMARY KEY (documento_identidad), \\\n",
    "      FOREIGN KEY (ruc) REFERENCES EMPRESA(ruc) \\\n",
    "    );\"\n",
    ")\n",
    "conexion.commit()"
   ],
   "metadata": {
    "collapsed": false,
    "ExecuteTime": {
     "end_time": "2023-05-19T00:31:52.160211200Z",
     "start_time": "2023-05-19T00:31:51.818162Z"
    }
   }
  },
  {
   "cell_type": "code",
   "execution_count": 466,
   "outputs": [],
   "source": [
    "cursor.execute(\" \\\n",
    "DO $$ BEGIN \\\n",
    "    CREATE TYPE tipo_vehiculo AS ENUM ('menores', 'pesada', 'carga'); \\\n",
    "EXCEPTION \\\n",
    "    WHEN duplicate_object THEN null; \\\n",
    "END $$;\")\n",
    "conexion.commit()"
   ],
   "metadata": {
    "collapsed": false,
    "ExecuteTime": {
     "end_time": "2023-05-19T00:31:52.480539300Z",
     "start_time": "2023-05-19T00:31:52.161211800Z"
    }
   }
  },
  {
   "cell_type": "code",
   "execution_count": 467,
   "outputs": [],
   "source": [
    "cursor.execute(\"CREATE TABLE IF NOT EXISTS ADMINISTRADOR ( \\\n",
    "      documento_identidad INT NOT NULL, \\\n",
    "      PRIMARY KEY (documento_identidad), \\\n",
    "      FOREIGN KEY (documento_identidad) REFERENCES USUARIO(documento_identidad) \\\n",
    "    );\"\n",
    ")\n",
    "conexion.commit()"
   ],
   "metadata": {
    "collapsed": false,
    "ExecuteTime": {
     "end_time": "2023-05-19T00:31:52.812909100Z",
     "start_time": "2023-05-19T00:31:52.480539300Z"
    }
   }
  },
  {
   "cell_type": "code",
   "execution_count": 468,
   "outputs": [
    {
     "name": "stdout",
     "output_type": "stream",
     "text": [
      "Usuarios creados con exito\n"
     ]
    }
   ],
   "source": [
    "for i in range (2):\n",
    "    cursor.execute(\"SELECT ruc FROM empresa\")\n",
    "    empresa = random.choice(cursor.fetchall())\n",
    "    documento_identidad  = fake.unique.random_int(min=111111, max=999999)\n",
    "    nombre  = fake.name()\n",
    "    email = fake.ascii_email()\n",
    "    usuario  = 'administrador'\n",
    "    contrasenia  = fake.language_name()\n",
    "    fecha_nacimiento  = fake.date()\n",
    "    apellidos  = fake.name()\n",
    "    ruc  = empresa[0]\n",
    "    cursor.execute(\"INSERT INTO usuario (documento_identidad, \\\n",
    "            nombre, \\\n",
    "            email, \\\n",
    "            usuario, \\\n",
    "            contrasenia, \\\n",
    "            fecha_nacimiento, \\\n",
    "            apellidos, \\\n",
    "            ruc \\\n",
    "            ) VALUES (%s, %s, %s, %s, %s, %s, %s, %s)\", (documento_identidad, nombre, email, usuario, contrasenia, fecha_nacimiento, apellidos, ruc))\n",
    "    conexion.commit()\n",
    "    cursor.execute(\"INSERT INTO administrador (documento_identidad) VALUES (%s)\", [documento_identidad])\n",
    "    conexion.commit()\n",
    "print(\"Usuarios creados con exito\")"
   ],
   "metadata": {
    "collapsed": false,
    "ExecuteTime": {
     "end_time": "2023-05-19T00:31:54.353872900Z",
     "start_time": "2023-05-19T00:31:52.812909100Z"
    }
   }
  },
  {
   "cell_type": "code",
   "execution_count": 469,
   "outputs": [
    {
     "data": {
      "text/plain": "[(913622,\n  'Candela Valderrama Barrio',\n  'curroroca@alcolea.net',\n  'administrador'),\n (885094,\n  'Rodolfo del Roman',\n  'vilanovainmaculada@morales-mur.es',\n  'administrador')]"
     },
     "execution_count": 469,
     "metadata": {},
     "output_type": "execute_result"
    }
   ],
   "source": [
    "cursor.execute(\"SELECT U.documento_identidad, U.nombre, U.email, U.usuario \\\n",
    "    FROM usuario U \\\n",
    "         INNER JOIN administrador A ON U.documento_identidad = A.documento_identidad\")\n",
    "cursor.fetchall()"
   ],
   "metadata": {
    "collapsed": false,
    "ExecuteTime": {
     "end_time": "2023-05-19T00:31:54.570057500Z",
     "start_time": "2023-05-19T00:31:54.353872900Z"
    }
   }
  },
  {
   "cell_type": "code",
   "execution_count": 470,
   "outputs": [],
   "source": [
    "conexion.commit()"
   ],
   "metadata": {
    "collapsed": false,
    "ExecuteTime": {
     "end_time": "2023-05-19T00:31:54.678248Z",
     "start_time": "2023-05-19T00:31:54.569057200Z"
    }
   }
  },
  {
   "cell_type": "code",
   "execution_count": 471,
   "outputs": [],
   "source": [
    "cursor.execute(\"CREATE TABLE IF NOT EXISTS GESTOR ( \\\n",
    "      documento_identidad INT NOT NULL, \\\n",
    "      PRIMARY KEY (documento_identidad), \\\n",
    "      FOREIGN KEY (documento_identidad) REFERENCES USUARIO(documento_identidad) \\\n",
    "    );\"\n",
    ")\n",
    "conexion.commit()"
   ],
   "metadata": {
    "collapsed": false,
    "ExecuteTime": {
     "end_time": "2023-05-19T00:31:55.013740500Z",
     "start_time": "2023-05-19T00:31:54.679246700Z"
    }
   }
  },
  {
   "cell_type": "code",
   "execution_count": 472,
   "outputs": [
    {
     "name": "stdout",
     "output_type": "stream",
     "text": [
      "Usuarios creados con exito\n"
     ]
    }
   ],
   "source": [
    "for i in range (2):\n",
    "    cursor.execute(\"SELECT ruc FROM empresa\")\n",
    "    empresa = random.choice(cursor.fetchall())\n",
    "    documento_identidad  = fake.unique.random_int(min=111111, max=999999)\n",
    "    nombre  = fake.name()\n",
    "    email = fake.ascii_email()\n",
    "    usuario  = 'gestor'\n",
    "    contrasenia  = fake.language_name()\n",
    "    fecha_nacimiento  = fake.date()\n",
    "    apellidos  = fake.name()\n",
    "    ruc  = empresa[0]\n",
    "    cursor.execute(\"INSERT INTO usuario (documento_identidad, \\\n",
    "            nombre, \\\n",
    "            email, \\\n",
    "            usuario, \\\n",
    "            contrasenia, \\\n",
    "            fecha_nacimiento, \\\n",
    "            apellidos, \\\n",
    "            ruc \\\n",
    "            ) VALUES (%s, %s, %s, %s, %s, %s, %s, %s)\", (documento_identidad, nombre, email, usuario, contrasenia, fecha_nacimiento, apellidos, ruc))\n",
    "    conexion.commit()\n",
    "    cursor.execute(\"INSERT INTO gestor (documento_identidad) VALUES (%s)\", [documento_identidad])\n",
    "    conexion.commit()\n",
    "print(\"Usuarios creados con exito\")"
   ],
   "metadata": {
    "collapsed": false,
    "ExecuteTime": {
     "end_time": "2023-05-19T00:31:56.526735200Z",
     "start_time": "2023-05-19T00:31:55.014741500Z"
    }
   }
  },
  {
   "cell_type": "code",
   "execution_count": 473,
   "outputs": [
    {
     "data": {
      "text/plain": "[(934479, 'Marcela Huguet Daza', 'ssastre@carro.com', 'gestor'),\n (713191, 'Sosimo Cordero', 'borjasantiago@gmail.com', 'gestor')]"
     },
     "execution_count": 473,
     "metadata": {},
     "output_type": "execute_result"
    }
   ],
   "source": [
    "cursor.execute(\"SELECT U.documento_identidad, U.nombre, U.email, U.usuario \\\n",
    "    FROM usuario U \\\n",
    "         INNER JOIN gestor A ON U.documento_identidad = A.documento_identidad\")\n",
    "cursor.fetchall()"
   ],
   "metadata": {
    "collapsed": false,
    "ExecuteTime": {
     "end_time": "2023-05-19T00:31:56.730926600Z",
     "start_time": "2023-05-19T00:31:56.526735200Z"
    }
   }
  },
  {
   "cell_type": "code",
   "execution_count": 474,
   "outputs": [],
   "source": [
    "cursor.execute(\"CREATE TABLE IF NOT EXISTS CONDUCTOR ( \\\n",
    "      documento_identidad INT NOT NULL, \\\n",
    "      PRIMARY KEY (documento_identidad), \\\n",
    "      FOREIGN KEY (documento_identidad) REFERENCES USUARIO(documento_identidad) \\\n",
    "    );\"\n",
    ")\n",
    "conexion.commit()"
   ],
   "metadata": {
    "collapsed": false,
    "ExecuteTime": {
     "end_time": "2023-05-19T00:31:56.955285400Z",
     "start_time": "2023-05-19T00:31:56.729925700Z"
    }
   }
  },
  {
   "cell_type": "code",
   "execution_count": 475,
   "outputs": [
    {
     "name": "stdout",
     "output_type": "stream",
     "text": [
      "Usuarios creados con exito\n"
     ]
    }
   ],
   "source": [
    "for i in range (2):\n",
    "    cursor.execute(\"SELECT ruc FROM empresa\")\n",
    "    empresa = random.choice(cursor.fetchall())\n",
    "    documento_identidad  = fake.unique.random_int(min=111111, max=999999)\n",
    "    nombre  = fake.name()\n",
    "    email = fake.ascii_email()\n",
    "    usuario  = 'conductor'\n",
    "    contrasenia  = fake.language_name()\n",
    "    fecha_nacimiento  = fake.date()\n",
    "    apellidos  = fake.name()\n",
    "    ruc  = empresa[0]\n",
    "    cursor.execute(\"INSERT INTO usuario (documento_identidad, \\\n",
    "            nombre, \\\n",
    "            email, \\\n",
    "            usuario, \\\n",
    "            contrasenia, \\\n",
    "            fecha_nacimiento, \\\n",
    "            apellidos, \\\n",
    "            ruc \\\n",
    "            ) VALUES (%s, %s, %s, %s, %s, %s, %s, %s)\", (documento_identidad, nombre, email, usuario, contrasenia, fecha_nacimiento, apellidos, ruc))\n",
    "    conexion.commit()\n",
    "    cursor.execute(\"INSERT INTO conductor (documento_identidad) VALUES (%s)\", [documento_identidad])\n",
    "    conexion.commit()\n",
    "print(\"Usuarios creados con exito\")"
   ],
   "metadata": {
    "collapsed": false,
    "ExecuteTime": {
     "end_time": "2023-05-19T00:31:58.454436300Z",
     "start_time": "2023-05-19T00:31:56.956283400Z"
    }
   }
  },
  {
   "cell_type": "code",
   "execution_count": 476,
   "outputs": [
    {
     "data": {
      "text/plain": "[(688791, 'Cebrián Barón Figueroa', 'climaco49@yahoo.com', 'conductor'),\n (181868, 'Ismael Amador Batlle', 'gsevilla@hotmail.com', 'conductor')]"
     },
     "execution_count": 476,
     "metadata": {},
     "output_type": "execute_result"
    }
   ],
   "source": [
    "cursor.execute(\"SELECT U.documento_identidad, U.nombre, U.email, U.usuario \\\n",
    "    FROM usuario U \\\n",
    "         INNER JOIN conductor A ON U.documento_identidad = A.documento_identidad\")\n",
    "cursor.fetchall()"
   ],
   "metadata": {
    "collapsed": false,
    "ExecuteTime": {
     "end_time": "2023-05-19T00:31:58.676916200Z",
     "start_time": "2023-05-19T00:31:58.456435600Z"
    }
   }
  },
  {
   "cell_type": "code",
   "execution_count": 477,
   "outputs": [],
   "source": [
    "cursor.execute(\"CREATE TABLE IF NOT EXISTS VEHICULO ( \\\n",
    "      placa VARCHAR(10) NOT NULL, \\\n",
    "      numero_bastidor VARCHAR(30) NOT NULL, \\\n",
    "      tipo_vehiculo tipo_vehiculo NOT NULL, \\\n",
    "      fotografia_vehiculo INT NOT NULL, \\\n",
    "      ruc INT NOT NULL, \\\n",
    "      PRIMARY KEY (placa), \\\n",
    "      FOREIGN KEY (ruc) REFERENCES EMPRESA(ruc), \\\n",
    "      UNIQUE (numero_bastidor) \\\n",
    "    );\"\n",
    ")\n",
    "conexion.commit()"
   ],
   "metadata": {
    "collapsed": false,
    "ExecuteTime": {
     "end_time": "2023-05-19T00:31:58.901180100Z",
     "start_time": "2023-05-19T00:31:58.672916300Z"
    }
   }
  },
  {
   "cell_type": "code",
   "execution_count": 478,
   "outputs": [],
   "source": [
    "cursor.execute(\"CREATE TABLE IF NOT EXISTS MENOR ( \\\n",
    "      auto BOOLEAN NOT NULL DEFAULT FALSE, \\\n",
    "      suv BOOLEAN NOT NULL DEFAULT FALSE, \\\n",
    "      placa VARCHAR(10) NOT NULL, \\\n",
    "      PRIMARY KEY (placa), \\\n",
    "      FOREIGN KEY (placa) REFERENCES VEHICULO(placa) \\\n",
    "    );\"\n",
    ")\n",
    "conexion.commit()"
   ],
   "metadata": {
    "collapsed": false,
    "ExecuteTime": {
     "end_time": "2023-05-19T00:31:59.264228800Z",
     "start_time": "2023-05-19T00:31:58.902180100Z"
    }
   }
  },
  {
   "cell_type": "code",
   "execution_count": 479,
   "outputs": [],
   "source": [
    "cursor.execute(\"CREATE TABLE IF NOT EXISTS PESADO ( \\\n",
    "      minicargador BOOLEAN NOT NULL DEFAULT FALSE, \\\n",
    "      cargador BOOLEAN NOT NULL DEFAULT FALSE, \\\n",
    "      retroexcavadora BOOLEAN NOT NULL DEFAULT FALSE, \\\n",
    "      excavadora BOOLEAN NOT NULL DEFAULT FALSE, \\\n",
    "      rodillo BOOLEAN NOT NULL DEFAULT FALSE, \\\n",
    "      placa VARCHAR(10) NOT NULL, \\\n",
    "      PRIMARY KEY (placa), \\\n",
    "      FOREIGN KEY (placa) REFERENCES VEHICULO(placa) \\\n",
    "    );\"\n",
    ")\n",
    "conexion.commit()"
   ],
   "metadata": {
    "collapsed": false,
    "ExecuteTime": {
     "end_time": "2023-05-19T00:31:59.597508500Z",
     "start_time": "2023-05-19T00:31:59.263233Z"
    }
   }
  },
  {
   "cell_type": "code",
   "execution_count": 480,
   "outputs": [],
   "source": [
    "cursor.execute(\"CREATE TABLE IF NOT EXISTS CARGA ( \\\n",
    "      volquete BOOLEAN NOT NULL DEFAULT FALSE, \\\n",
    "      placa VARCHAR(10) NOT NULL, \\\n",
    "      PRIMARY KEY (placa), \\\n",
    "      FOREIGN KEY (placa) REFERENCES VEHICULO(placa) \\\n",
    "    );\"\n",
    ")\n",
    "conexion.commit()"
   ],
   "metadata": {
    "collapsed": false,
    "ExecuteTime": {
     "end_time": "2023-05-19T00:31:59.934035400Z",
     "start_time": "2023-05-19T00:31:59.598512100Z"
    }
   }
  },
  {
   "cell_type": "code",
   "execution_count": 481,
   "outputs": [],
   "source": [
    "cursor.execute(\"CREATE TABLE IF NOT EXISTS tiene ( \\\n",
    "      placa VARCHAR(10) NOT NULL, \\\n",
    "      numero_poliza VARCHAR(100) NOT NULL, \\\n",
    "      PRIMARY KEY (placa, numero_poliza), \\\n",
    "      FOREIGN KEY (placa) REFERENCES VEHICULO(placa), \\\n",
    "      FOREIGN KEY (numero_poliza) REFERENCES POLIZA(numero_poliza) \\\n",
    "    );\"\n",
    ")\n",
    "conexion.commit()"
   ],
   "metadata": {
    "collapsed": false,
    "ExecuteTime": {
     "end_time": "2023-05-19T00:32:00.303299900Z",
     "start_time": "2023-05-19T00:31:59.931039300Z"
    }
   }
  },
  {
   "cell_type": "code",
   "execution_count": 482,
   "outputs": [],
   "source": [
    "cursor.execute(\"CREATE TABLE IF NOT EXISTS asignado ( \\\n",
    "      documento_identidad INT NOT NULL, \\\n",
    "      placa VARCHAR(10) NOT NULL, \\\n",
    "      PRIMARY KEY (documento_identidad, placa), \\\n",
    "      FOREIGN KEY (documento_identidad) REFERENCES CONDUCTOR(documento_identidad), \\\n",
    "      FOREIGN KEY (placa) REFERENCES VEHICULO(placa) \\\n",
    "    );\"\n",
    ")\n",
    "conexion.commit()"
   ],
   "metadata": {
    "collapsed": false,
    "ExecuteTime": {
     "end_time": "2023-05-19T00:32:00.636226Z",
     "start_time": "2023-05-19T00:32:00.304303100Z"
    }
   }
  },
  {
   "cell_type": "code",
   "execution_count": 483,
   "outputs": [],
   "source": [
    "cursor.execute(\"CREATE TABLE IF NOT EXISTS gestiona ( \\\n",
    "      codigo_obra INT NOT NULL, \\\n",
    "      documento_identidad INT NOT NULL, \\\n",
    "      PRIMARY KEY (codigo_obra, documento_identidad), \\\n",
    "      FOREIGN KEY (codigo_obra) REFERENCES OBRA(codigo_obra), \\\n",
    "      FOREIGN KEY (documento_identidad) REFERENCES GESTOR(documento_identidad) \\\n",
    "    );\"\n",
    ")\n",
    "conexion.commit()"
   ],
   "metadata": {
    "collapsed": false,
    "ExecuteTime": {
     "end_time": "2023-05-19T00:32:00.971696700Z",
     "start_time": "2023-05-19T00:32:00.637222600Z"
    }
   }
  },
  {
   "cell_type": "code",
   "execution_count": 484,
   "outputs": [],
   "source": [
    "cursor.execute(\"ALTER TABLE vehiculo ALTER COLUMN fotografia_vehiculo TYPE text;\")\n",
    "conexion.commit()"
   ],
   "metadata": {
    "collapsed": false,
    "ExecuteTime": {
     "end_time": "2023-05-19T00:32:01.326911100Z",
     "start_time": "2023-05-19T00:32:00.971696700Z"
    }
   }
  },
  {
   "cell_type": "code",
   "execution_count": 495,
   "outputs": [],
   "source": [
    "conexion.commit()"
   ],
   "metadata": {
    "collapsed": false,
    "ExecuteTime": {
     "end_time": "2023-05-19T00:34:09.443144700Z",
     "start_time": "2023-05-19T00:34:09.335443Z"
    }
   }
  },
  {
   "cell_type": "code",
   "execution_count": 496,
   "outputs": [
    {
     "name": "stdout",
     "output_type": "stream",
     "text": [
      "Vehiculos creados creados con exito\n"
     ]
    }
   ],
   "source": [
    "for i in range (10):\n",
    "    cursor.execute(\"SELECT ruc FROM empresa\")\n",
    "    empresa = random.choice(cursor.fetchall())[0]\n",
    "    placa  = fake.bothify(text='?####??', letters='ABCDE')\n",
    "    numero_bastidor  = fake.bothify(text='#-??###-###???', letters='ABCDEFGHY')\n",
    "    tipo_vehiculo = 'menores'\n",
    "    fotografia_vehiculo = fake.image(size=(16, 16), hue=[90, 270], image_format='ico')\n",
    "    ruc = empresa\n",
    "    cursor.execute(\"INSERT INTO vehiculo ( \\\n",
    "            placa, \\\n",
    "            numero_bastidor, \\\n",
    "            tipo_vehiculo, \\\n",
    "            fotografia_vehiculo, \\\n",
    "            ruc \\\n",
    "            ) VALUES (%s, %s, %s, %s, %s)\", (placa, numero_bastidor, tipo_vehiculo, fotografia_vehiculo, ruc))\n",
    "    conexion.commit()\n",
    "print(\"Vehiculos creados creados con exito\")"
   ],
   "metadata": {
    "collapsed": false,
    "ExecuteTime": {
     "end_time": "2023-05-19T00:34:15.623526700Z",
     "start_time": "2023-05-19T00:34:11.296423800Z"
    }
   }
  },
  {
   "cell_type": "code",
   "execution_count": 506,
   "outputs": [
    {
     "data": {
      "text/plain": "[('E3276EC',), ('A1834CC',), ('E2353DA',)]"
     },
     "execution_count": 506,
     "metadata": {},
     "output_type": "execute_result"
    }
   ],
   "source": [
    "cursor.execute(\"SELECT placa FROM vehiculo WHERE placa like '%C' OR placa like '%A'\")\n",
    "cursor.fetchall()"
   ],
   "metadata": {
    "collapsed": false,
    "ExecuteTime": {
     "end_time": "2023-05-19T00:37:54.725823900Z",
     "start_time": "2023-05-19T00:37:54.615298400Z"
    }
   }
  },
  {
   "cell_type": "code",
   "execution_count": 502,
   "outputs": [],
   "source": [
    "conexion.commit()"
   ],
   "metadata": {
    "collapsed": false,
    "ExecuteTime": {
     "end_time": "2023-05-19T00:34:53.952833500Z",
     "start_time": "2023-05-19T00:34:53.846829100Z"
    }
   }
  },
  {
   "cell_type": "code",
   "execution_count": null,
   "outputs": [],
   "source": [
    "print(fake.bothify(text='??######???', letters='ABCDE'))"
   ],
   "metadata": {
    "collapsed": false,
    "ExecuteTime": {
     "start_time": "2023-05-19T00:32:01.342837600Z"
    }
   }
  },
  {
   "cell_type": "code",
   "execution_count": null,
   "outputs": [],
   "source": [
    "conexion.close()"
   ],
   "metadata": {
    "collapsed": false
   }
  }
 ],
 "metadata": {
  "kernelspec": {
   "display_name": "Python 3 (ipykernel)",
   "language": "python",
   "name": "python3"
  },
  "language_info": {
   "codemirror_mode": {
    "name": "ipython",
    "version": 3
   },
   "file_extension": ".py",
   "mimetype": "text/x-python",
   "name": "python",
   "nbconvert_exporter": "python",
   "pygments_lexer": "ipython3",
   "version": "3.11.3"
  }
 },
 "nbformat": 4,
 "nbformat_minor": 5
}
